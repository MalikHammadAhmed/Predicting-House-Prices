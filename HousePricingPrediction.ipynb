{
 "cells": [
  {
   "cell_type": "code",
   "execution_count": 1,
   "metadata": {},
   "outputs": [],
   "source": [
    "import numpy as np\n",
    "import tensorflow as tf\n",
    "import matplotlib.pyplot as plt\n",
    "from tensorflow.keras.datasets import boston_housing\n",
    "from tensorflow.keras import models,layers,optimizers,utils,metrics"
   ]
  },
  {
   "cell_type": "code",
   "execution_count": 2,
   "metadata": {},
   "outputs": [],
   "source": [
    "(train_data, train_targets), (test_data, test_targets) = boston_housing.load_data()"
   ]
  },
  {
   "cell_type": "code",
   "execution_count": 3,
   "metadata": {},
   "outputs": [],
   "source": [
    "mean = train_data.mean(axis=0)\n",
    "train_data -= mean\n",
    "std = train_data.std(axis=0)\n",
    "train_data /= std\n",
    "test_data -= mean\n",
    "test_data /= std"
   ]
  },
  {
   "cell_type": "code",
   "execution_count": 4,
   "metadata": {},
   "outputs": [],
   "source": [
    "def build_model():\n",
    "    model = models.Sequential()\n",
    "    model.add(layers.Dense(64, activation='relu',\n",
    "    input_shape=(train_data.shape[1],)))\n",
    "    model.add(layers.Dense(64, activation='relu'))\n",
    "    model.add(layers.Dense(1))\n",
    "    model.compile(optimizer='rmsprop', loss='mse', metrics=['mae'])\n",
    "    return model"
   ]
  },
  {
   "cell_type": "code",
   "execution_count": 12,
   "metadata": {},
   "outputs": [
    {
     "name": "stdout",
     "output_type": "stream",
     "text": [
      "processing fold # 0\n",
      "processing fold # 1\n",
      "processing fold # 2\n",
      "processing fold # 3\n"
     ]
    }
   ],
   "source": [
    "k = 4\n",
    "num_val_samples = len(train_data) // k\n",
    "num_epochs = 100\n",
    "all_mae_histories = []\n",
    "all_scores = []\n",
    "for i in range(k):\n",
    "    print('processing fold #', i)\n",
    "    val_data = train_data[i * num_val_samples: (i + 1) * num_val_samples]\n",
    "    val_targets = train_targets[i * num_val_samples: (i + 1) * num_val_samples]\n",
    "    partial_train_data = np.concatenate([train_data[:i * num_val_samples],train_data[(i + 1) * num_val_samples:]],axis=0)\n",
    "    partial_train_targets = np.concatenate([train_targets[:i * num_val_samples],train_targets[(i + 1) * num_val_samples:]],axis=0)\n",
    "    model = build_model()\n",
    "    history = model.fit(partial_train_data, partial_train_targets,epochs=num_epochs, batch_size=1, verbose=0)\n",
    "    val_mse, val_mae = model.evaluate(val_data, val_targets, verbose=0)\n",
    "    mae_history = history.history['mae']\n",
    "    all_scores.append(val_mae)\n",
    "    all_mae_histories.append(mae_history)"
   ]
  },
  {
   "cell_type": "code",
   "execution_count": 13,
   "metadata": {},
   "outputs": [
    {
     "data": {
      "text/plain": [
       "[2.5222504138946533,\n",
       " 2.5773098468780518,\n",
       " 2.6941516399383545,\n",
       " 2.5018463134765625]"
      ]
     },
     "execution_count": 13,
     "metadata": {},
     "output_type": "execute_result"
    }
   ],
   "source": [
    "all_scores"
   ]
  },
  {
   "cell_type": "code",
   "execution_count": 14,
   "metadata": {},
   "outputs": [
    {
     "name": "stdout",
     "output_type": "stream",
     "text": [
      "All fold validation Errors:  [2.5222504138946533, 2.5773098468780518, 2.6941516399383545, 2.5018463134765625]\n",
      "Mean of All Validation Errors: 2.5738895535469055\n",
      "average_mae_history: [10.873138904571533, 3.862114727497101, 3.179957330226898, 2.8123772740364075, 2.587061643600464, 2.4784039855003357, 2.3946537375450134, 2.3519821166992188, 2.2978641390800476, 2.2239556908607483, 2.206793248653412, 2.199907660484314, 2.1493738889694214, 2.1246403455734253, 2.09539595246315, 2.0794112980365753, 2.070540130138397, 2.0110961496829987, 2.008341461420059, 2.0062608420848846, 1.956629753112793, 1.9458658993244171, 1.957646906375885, 1.9418421685695648, 1.9004265367984772, 1.8960179388523102, 1.9019788801670074, 1.8739048540592194, 1.8344913721084595, 1.8302134573459625, 1.837207168340683, 1.842819631099701, 1.8013959527015686, 1.7969734072685242, 1.7858429253101349, 1.7656141817569733, 1.7508870959281921, 1.7744896709918976, 1.7506715655326843, 1.7640888690948486, 1.7211412489414215, 1.7025819420814514, 1.7274096310138702, 1.7190687358379364, 1.6803171336650848, 1.6784974336624146, 1.6727018654346466, 1.6258765757083893, 1.6133833825588226, 1.648945689201355, 1.6258233487606049, 1.6533654928207397, 1.6020403802394867, 1.5824835300445557, 1.5943892300128937, 1.5995677411556244, 1.5898724496364594, 1.593544989824295, 1.5740792751312256, 1.5556599497795105, 1.5533444285392761, 1.5274680852890015, 1.5163803100585938, 1.5382663905620575, 1.5144693851470947, 1.511921226978302, 1.5194670259952545, 1.4963451027870178, 1.4876560866832733, 1.4935599267482758, 1.481188178062439, 1.4604992866516113, 1.4497268497943878, 1.4516626298427582, 1.447677105665207, 1.4263288080692291, 1.4564146101474762, 1.4213786721229553, 1.4388668835163116, 1.4526019990444183, 1.421142339706421, 1.4082665741443634, 1.418397307395935, 1.3912889957427979, 1.3948523104190826, 1.3793362081050873, 1.3412801623344421, 1.3524288535118103, 1.3688697218894958, 1.3754976391792297, 1.3503925204277039, 1.3201804459095001, 1.3529857397079468, 1.3283392786979675, 1.3318322598934174, 1.3249389231204987, 1.3268800377845764, 1.3274716138839722, 1.2974045872688293, 1.3023289144039154]\n"
     ]
    }
   ],
   "source": [
    "average_mae_history = [np.mean([x[i] for x in all_mae_histories]) for i in range(num_epochs)]\n",
    "print('All fold validation Errors: ', all_scores)\n",
    "print('Mean of All Validation Errors:', np.mean(all_scores))\n",
    "print('average_mae_history:', average_mae_history)"
   ]
  },
  {
   "cell_type": "code",
   "execution_count": 16,
   "metadata": {},
   "outputs": [
    {
     "data": {
      "image/png": "[encoded data removed]",
      "text/plain": [
       "<Figure size 432x288 with 1 Axes>"
      ]
     },
     "metadata": {
      "needs_background": "light"
     },
     "output_type": "display_data"
    }
   ],
   "source": [
    "plt.plot(range(1, len(average_mae_history) + 1), average_mae_history)\n",
    "plt.xlabel('Epochs')\n",
    "plt.ylabel('Validation MAE')\n",
    "plt.show()"
   ]
  },
  {
   "cell_type": "code",
   "execution_count": 17,
   "metadata": {},
   "outputs": [
    {
     "name": "stdout",
     "output_type": "stream",
     "text": [
      "4/4 [==============================] - 0s 1ms/step - loss: 18.9778 - mae: 2.7055\n"
     ]
    }
   ],
   "source": [
    "model = build_model()\n",
    "model.fit(train_data, train_targets,\n",
    "epochs=80, batch_size=16, verbose=0)\n",
    "test_mse_score, test_mae_score = model.evaluate(test_data, test_targets)"
   ]
  },
  {
   "cell_type": "code",
   "execution_count": 18,
   "metadata": {},
   "outputs": [
    {
     "data": {
      "text/plain": [
       "2.7054500579833984"
      ]
     },
     "execution_count": 18,
     "metadata": {},
     "output_type": "execute_result"
    }
   ],
   "source": [
    "test_mae_score"
   ]
  },
  {
   "cell_type": "code",
   "execution_count": null,
   "metadata": {},
   "outputs": [],
   "source": []
  }
 ],
 "metadata": {
  "kernelspec": {
   "display_name": "Python 3",
   "language": "python",
   "name": "python3"
  },
  "language_info": {
   "codemirror_mode": {
    "name": "ipython",
    "version": 3
   },
   "file_extension": ".py",
   "mimetype": "text/x-python",
   "name": "python",
   "nbconvert_exporter": "python",
   "pygments_lexer": "ipython3",
   "version": "3.8.10"
  }
 },
 "nbformat": 4,
 "nbformat_minor": 4
}
